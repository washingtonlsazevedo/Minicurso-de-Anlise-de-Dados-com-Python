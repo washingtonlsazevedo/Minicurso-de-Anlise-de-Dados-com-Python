{
 "cells": [
  {
   "cell_type": "markdown",
   "id": "47b1c332",
   "metadata": {},
   "source": [
    "# Análise de Dados com Python"
   ]
  },
  {
   "cell_type": "markdown",
   "id": "c17d566f",
   "metadata": {},
   "source": [
    "## Fase - Pergunta\n",
    "\n",
    "***Enem: 1,2 milhão de inscritos faltaram; 376 foram eliminados***\n",
    "\n",
    "Cerca de 3,9 milhões de pessoas fizeram hoje (3) o Exame Nacional do Ensino Médio (Enem). Os cerca de 1,2 milhão de faltosos representam 23% do total de 5,1 milhões de inscritos. Ao todo, 376 pessoas foram eliminadas por descumprirem as regras do exame. Os dados foram divulgados pelo Ministério da Educação (MEC) e pelo Instituto Nacional de Estudos e Pesquisas Educacionais Anísio Teixeira (Inep).  \n",
    "\n",
    "“Deu tudo certo, foi tudo perfeito, funcionou tudo bem. Tivemos a mais baixa abstenção da história”, avaliou o ministro da Educação, Abraham Weintraub.\n",
    "\n",
    "Fonte: https://agenciabrasil.ebc.com.br/educacao/noticia/2019-11/enem-12-milhao-de-inscritos-faltaram-376-foram-eliminados\n",
    "\n",
    "\n",
    "Diante dessa baixa ausência, para o ENEM de 2019, os faltosos como estão distribuidos entre estrato social, Cor_Raça informado e tipo de escola (pública ou privada). Individuos das Classes D e E, que se declaram de cor Parda e Preta, formam o grupo dominante dos faltosos?"
   ]
  },
  {
   "cell_type": "markdown",
   "id": "55618574",
   "metadata": {},
   "source": [
    "## Fase - Preparo"
   ]
  },
  {
   "cell_type": "markdown",
   "id": "5246d60d",
   "metadata": {},
   "source": [
    "Nesta fase, vamos preparar o ambiente para que possamos proceder com nossa análise de dados, executaremos as seguintes etapas:\n",
    "\n",
    "1 - Importaremos as bibliotecas que utilizaremos em nossa análise;\n",
    "\n",
    "2 - Prepararemos o ambiente de trabalho;\n",
    "\n",
    "3 - Baixaremos e armazenaremos de forma apropriada nossos dados."
   ]
  },
  {
   "cell_type": "code",
   "execution_count": 1,
   "id": "714ff968",
   "metadata": {},
   "outputs": [],
   "source": [
    "#Importando as bibliotecas necessárias\n",
    "import pandas as pd\n",
    "import numpy as np\n",
    "import zipfile\n",
    "import requests\n",
    "from io import BytesIO\n",
    "import os\n",
    "import matplotlib.pyplot as plt"
   ]
  },
  {
   "cell_type": "code",
   "execution_count": 2,
   "id": "e8400e87",
   "metadata": {},
   "outputs": [],
   "source": [
    "#Criar um diretório\n",
    "os.makedirs('./enem2019', exist_ok=True)"
   ]
  },
  {
   "cell_type": "markdown",
   "id": "f5026189",
   "metadata": {},
   "source": [
    "Podemos obter nossos dados por dois caminhos, baixando e descompactando os dados manualmente ou baixando e descompactando via linha de código"
   ]
  },
  {
   "cell_type": "code",
   "execution_count": null,
   "id": "5ce624e8",
   "metadata": {},
   "outputs": [],
   "source": [
    "#Caso a sua opção seja a de baixar e descompactar via linha de código\n",
    "\n",
    "#Criando variável com endereço do arquivo e baixando o arquivo\n",
    "url = \"https://download.inep.gov.br/microdados/microdados_enem_2019.zip\"\n",
    "filebytes = BytesIO(requests.get(url).content)\n",
    "\n",
    "#Descompactando arquivo no diretório criado anteriormente\n",
    "myzip = zipfile.ZipFile(filebytes)\n",
    "myzip.extractall(\"./enem2019\")"
   ]
  },
  {
   "cell_type": "markdown",
   "id": "09eb507a",
   "metadata": {},
   "source": [
    "Caso tenha optado por baixar e descompactar manualmente, coloque todas as pastas descompactadas, no diretório que criamos anteriormente, o conteúdo baixado são 5 diretórios (DADOS, DICIONÁRIO, LEIA-ME E DOCUMENTOS TÉCNICOS E PROVAS E GABARITOS)"
   ]
  },
  {
   "cell_type": "code",
   "execution_count": 3,
   "id": "06dd7a6d",
   "metadata": {},
   "outputs": [],
   "source": [
    "#Vamos criar um DataFrame com os microdados do Enem 2019\n",
    "enem2019 = pd.read_csv(\n",
    "    \"./enem2019/DADOS/MICRODADOS_ENEM_2019.csv\",\n",
    "    sep=\";\",\n",
    "    decimal=\",\",\n",
    "    encoding=\"latin\"\n",
    ")"
   ]
  },
  {
   "cell_type": "markdown",
   "id": "7fd2c09a",
   "metadata": {},
   "source": [
    "## Fase - Processo\n",
    "\n",
    "Nesta fase, vamos preparar o ambiente para que possamos proceder com nossa análise de dados, executaremos a seguinte etapa:\n",
    "\n",
    "1 - Identificaremos como eles estão organizado, podemos conferir como estão organizados dando uma rápida olhada na estrutura do arquivo, mas no nosso caso, teremos como arquivo norteador o dicionário disponibilizado pelo próprio fornecedor dos dados, o INEP."
   ]
  },
  {
   "cell_type": "code",
   "execution_count": 4,
   "id": "fa6c07e5",
   "metadata": {},
   "outputs": [
    {
     "name": "stdout",
     "output_type": "stream",
     "text": [
      "<class 'pandas.core.frame.DataFrame'>\n",
      "RangeIndex: 5095270 entries, 0 to 5095269\n",
      "Columns: 136 entries, NU_INSCRICAO to Q025\n",
      "dtypes: float64(21), int64(70), object(45)\n",
      "memory usage: 5.2+ GB\n"
     ]
    }
   ],
   "source": [
    "#Vamos conferir algumas informações básicas\n",
    "#como a quantidade de linhas e colunas compõem nosso DataFrame\n",
    "#quais são sos tipos de dados encontrados\n",
    "enem2019.info()"
   ]
  },
  {
   "cell_type": "code",
   "execution_count": 6,
   "id": "b9b68125",
   "metadata": {},
   "outputs": [
    {
     "data": {
      "text/html": [
       "<div>\n",
       "<style scoped>\n",
       "    .dataframe tbody tr th:only-of-type {\n",
       "        vertical-align: middle;\n",
       "    }\n",
       "\n",
       "    .dataframe tbody tr th {\n",
       "        vertical-align: top;\n",
       "    }\n",
       "\n",
       "    .dataframe thead th {\n",
       "        text-align: right;\n",
       "    }\n",
       "</style>\n",
       "<table border=\"1\" class=\"dataframe\">\n",
       "  <thead>\n",
       "    <tr style=\"text-align: right;\">\n",
       "      <th></th>\n",
       "      <th>NU_INSCRICAO</th>\n",
       "      <th>NU_ANO</th>\n",
       "      <th>CO_MUNICIPIO_RESIDENCIA</th>\n",
       "      <th>NO_MUNICIPIO_RESIDENCIA</th>\n",
       "      <th>CO_UF_RESIDENCIA</th>\n",
       "      <th>SG_UF_RESIDENCIA</th>\n",
       "      <th>NU_IDADE</th>\n",
       "      <th>TP_SEXO</th>\n",
       "      <th>TP_ESTADO_CIVIL</th>\n",
       "      <th>TP_COR_RACA</th>\n",
       "      <th>...</th>\n",
       "      <th>Q016</th>\n",
       "      <th>Q017</th>\n",
       "      <th>Q018</th>\n",
       "      <th>Q019</th>\n",
       "      <th>Q020</th>\n",
       "      <th>Q021</th>\n",
       "      <th>Q022</th>\n",
       "      <th>Q023</th>\n",
       "      <th>Q024</th>\n",
       "      <th>Q025</th>\n",
       "    </tr>\n",
       "  </thead>\n",
       "  <tbody>\n",
       "    <tr>\n",
       "      <th>0</th>\n",
       "      <td>190001595656</td>\n",
       "      <td>2019</td>\n",
       "      <td>3552205</td>\n",
       "      <td>Sorocaba</td>\n",
       "      <td>35</td>\n",
       "      <td>SP</td>\n",
       "      <td>36.0</td>\n",
       "      <td>M</td>\n",
       "      <td>1</td>\n",
       "      <td>3</td>\n",
       "      <td>...</td>\n",
       "      <td>A</td>\n",
       "      <td>A</td>\n",
       "      <td>A</td>\n",
       "      <td>A</td>\n",
       "      <td>A</td>\n",
       "      <td>A</td>\n",
       "      <td>C</td>\n",
       "      <td>A</td>\n",
       "      <td>C</td>\n",
       "      <td>B</td>\n",
       "    </tr>\n",
       "    <tr>\n",
       "      <th>1</th>\n",
       "      <td>190001421546</td>\n",
       "      <td>2019</td>\n",
       "      <td>2910800</td>\n",
       "      <td>Feira de Santana</td>\n",
       "      <td>29</td>\n",
       "      <td>BA</td>\n",
       "      <td>23.0</td>\n",
       "      <td>M</td>\n",
       "      <td>1</td>\n",
       "      <td>1</td>\n",
       "      <td>...</td>\n",
       "      <td>A</td>\n",
       "      <td>A</td>\n",
       "      <td>A</td>\n",
       "      <td>B</td>\n",
       "      <td>A</td>\n",
       "      <td>A</td>\n",
       "      <td>E</td>\n",
       "      <td>A</td>\n",
       "      <td>A</td>\n",
       "      <td>B</td>\n",
       "    </tr>\n",
       "    <tr>\n",
       "      <th>2</th>\n",
       "      <td>190001133210</td>\n",
       "      <td>2019</td>\n",
       "      <td>2304400</td>\n",
       "      <td>Fortaleza</td>\n",
       "      <td>23</td>\n",
       "      <td>CE</td>\n",
       "      <td>39.0</td>\n",
       "      <td>F</td>\n",
       "      <td>1</td>\n",
       "      <td>3</td>\n",
       "      <td>...</td>\n",
       "      <td>A</td>\n",
       "      <td>A</td>\n",
       "      <td>A</td>\n",
       "      <td>B</td>\n",
       "      <td>A</td>\n",
       "      <td>A</td>\n",
       "      <td>C</td>\n",
       "      <td>A</td>\n",
       "      <td>A</td>\n",
       "      <td>B</td>\n",
       "    </tr>\n",
       "    <tr>\n",
       "      <th>3</th>\n",
       "      <td>190001199383</td>\n",
       "      <td>2019</td>\n",
       "      <td>1721000</td>\n",
       "      <td>Palmas</td>\n",
       "      <td>17</td>\n",
       "      <td>TO</td>\n",
       "      <td>25.0</td>\n",
       "      <td>F</td>\n",
       "      <td>1</td>\n",
       "      <td>1</td>\n",
       "      <td>...</td>\n",
       "      <td>A</td>\n",
       "      <td>A</td>\n",
       "      <td>A</td>\n",
       "      <td>C</td>\n",
       "      <td>A</td>\n",
       "      <td>B</td>\n",
       "      <td>D</td>\n",
       "      <td>A</td>\n",
       "      <td>B</td>\n",
       "      <td>B</td>\n",
       "    </tr>\n",
       "    <tr>\n",
       "      <th>4</th>\n",
       "      <td>190001237802</td>\n",
       "      <td>2019</td>\n",
       "      <td>3118601</td>\n",
       "      <td>Contagem</td>\n",
       "      <td>31</td>\n",
       "      <td>MG</td>\n",
       "      <td>22.0</td>\n",
       "      <td>F</td>\n",
       "      <td>1</td>\n",
       "      <td>1</td>\n",
       "      <td>...</td>\n",
       "      <td>B</td>\n",
       "      <td>A</td>\n",
       "      <td>A</td>\n",
       "      <td>B</td>\n",
       "      <td>A</td>\n",
       "      <td>A</td>\n",
       "      <td>C</td>\n",
       "      <td>B</td>\n",
       "      <td>B</td>\n",
       "      <td>B</td>\n",
       "    </tr>\n",
       "  </tbody>\n",
       "</table>\n",
       "<p>5 rows × 136 columns</p>\n",
       "</div>"
      ],
      "text/plain": [
       "   NU_INSCRICAO  NU_ANO  CO_MUNICIPIO_RESIDENCIA NO_MUNICIPIO_RESIDENCIA  \\\n",
       "0  190001595656    2019                  3552205                Sorocaba   \n",
       "1  190001421546    2019                  2910800        Feira de Santana   \n",
       "2  190001133210    2019                  2304400               Fortaleza   \n",
       "3  190001199383    2019                  1721000                  Palmas   \n",
       "4  190001237802    2019                  3118601                Contagem   \n",
       "\n",
       "   CO_UF_RESIDENCIA SG_UF_RESIDENCIA  NU_IDADE TP_SEXO  TP_ESTADO_CIVIL  \\\n",
       "0                35               SP      36.0       M                1   \n",
       "1                29               BA      23.0       M                1   \n",
       "2                23               CE      39.0       F                1   \n",
       "3                17               TO      25.0       F                1   \n",
       "4                31               MG      22.0       F                1   \n",
       "\n",
       "   TP_COR_RACA  ...  Q016  Q017 Q018  Q019 Q020  Q021  Q022  Q023  Q024  Q025  \n",
       "0            3  ...     A     A    A     A    A     A     C     A     C     B  \n",
       "1            1  ...     A     A    A     B    A     A     E     A     A     B  \n",
       "2            3  ...     A     A    A     B    A     A     C     A     A     B  \n",
       "3            1  ...     A     A    A     C    A     B     D     A     B     B  \n",
       "4            1  ...     B     A    A     B    A     A     C     B     B     B  \n",
       "\n",
       "[5 rows x 136 columns]"
      ]
     },
     "execution_count": 6,
     "metadata": {},
     "output_type": "execute_result"
    }
   ],
   "source": [
    "#Vamos dar uma conferida nas 5 primeiras linhas do nosso DataFrame\n",
    "enem2019.head()"
   ]
  },
  {
   "cell_type": "code",
   "execution_count": 7,
   "id": "e5039a04",
   "metadata": {},
   "outputs": [
    {
     "data": {
      "text/plain": [
       "{'NU_INSCRICAO': dtype('int64'),\n",
       " 'NU_ANO': dtype('int64'),\n",
       " 'CO_MUNICIPIO_RESIDENCIA': dtype('int64'),\n",
       " 'NO_MUNICIPIO_RESIDENCIA': dtype('O'),\n",
       " 'CO_UF_RESIDENCIA': dtype('int64'),\n",
       " 'SG_UF_RESIDENCIA': dtype('O'),\n",
       " 'NU_IDADE': dtype('float64'),\n",
       " 'TP_SEXO': dtype('O'),\n",
       " 'TP_ESTADO_CIVIL': dtype('int64'),\n",
       " 'TP_COR_RACA': dtype('int64'),\n",
       " 'TP_NACIONALIDADE': dtype('int64'),\n",
       " 'CO_MUNICIPIO_NASCIMENTO': dtype('float64'),\n",
       " 'NO_MUNICIPIO_NASCIMENTO': dtype('O'),\n",
       " 'CO_UF_NASCIMENTO': dtype('float64'),\n",
       " 'SG_UF_NASCIMENTO': dtype('O'),\n",
       " 'TP_ST_CONCLUSAO': dtype('int64'),\n",
       " 'TP_ANO_CONCLUIU': dtype('int64'),\n",
       " 'TP_ESCOLA': dtype('int64'),\n",
       " 'TP_ENSINO': dtype('float64'),\n",
       " 'IN_TREINEIRO': dtype('int64'),\n",
       " 'CO_ESCOLA': dtype('float64'),\n",
       " 'CO_MUNICIPIO_ESC': dtype('float64'),\n",
       " 'NO_MUNICIPIO_ESC': dtype('O'),\n",
       " 'CO_UF_ESC': dtype('float64'),\n",
       " 'SG_UF_ESC': dtype('O'),\n",
       " 'TP_DEPENDENCIA_ADM_ESC': dtype('float64'),\n",
       " 'TP_LOCALIZACAO_ESC': dtype('float64'),\n",
       " 'TP_SIT_FUNC_ESC': dtype('float64'),\n",
       " 'IN_BAIXA_VISAO': dtype('int64'),\n",
       " 'IN_CEGUEIRA': dtype('int64'),\n",
       " 'IN_SURDEZ': dtype('int64'),\n",
       " 'IN_DEFICIENCIA_AUDITIVA': dtype('int64'),\n",
       " 'IN_SURDO_CEGUEIRA': dtype('int64'),\n",
       " 'IN_DEFICIENCIA_FISICA': dtype('int64'),\n",
       " 'IN_DEFICIENCIA_MENTAL': dtype('int64'),\n",
       " 'IN_DEFICIT_ATENCAO': dtype('int64'),\n",
       " 'IN_DISLEXIA': dtype('int64'),\n",
       " 'IN_DISCALCULIA': dtype('int64'),\n",
       " 'IN_AUTISMO': dtype('int64'),\n",
       " 'IN_VISAO_MONOCULAR': dtype('int64'),\n",
       " 'IN_OUTRA_DEF': dtype('int64'),\n",
       " 'IN_GESTANTE': dtype('int64'),\n",
       " 'IN_LACTANTE': dtype('int64'),\n",
       " 'IN_IDOSO': dtype('int64'),\n",
       " 'IN_ESTUDA_CLASSE_HOSPITALAR': dtype('int64'),\n",
       " 'IN_SEM_RECURSO': dtype('int64'),\n",
       " 'IN_BRAILLE': dtype('int64'),\n",
       " 'IN_AMPLIADA_24': dtype('int64'),\n",
       " 'IN_AMPLIADA_18': dtype('int64'),\n",
       " 'IN_LEDOR': dtype('int64'),\n",
       " 'IN_ACESSO': dtype('int64'),\n",
       " 'IN_TRANSCRICAO': dtype('int64'),\n",
       " 'IN_LIBRAS': dtype('int64'),\n",
       " 'IN_TEMPO_ADICIONAL': dtype('int64'),\n",
       " 'IN_LEITURA_LABIAL': dtype('int64'),\n",
       " 'IN_MESA_CADEIRA_RODAS': dtype('int64'),\n",
       " 'IN_MESA_CADEIRA_SEPARADA': dtype('int64'),\n",
       " 'IN_APOIO_PERNA': dtype('int64'),\n",
       " 'IN_GUIA_INTERPRETE': dtype('int64'),\n",
       " 'IN_COMPUTADOR': dtype('int64'),\n",
       " 'IN_CADEIRA_ESPECIAL': dtype('int64'),\n",
       " 'IN_CADEIRA_CANHOTO': dtype('int64'),\n",
       " 'IN_CADEIRA_ACOLCHOADA': dtype('int64'),\n",
       " 'IN_PROVA_DEITADO': dtype('int64'),\n",
       " 'IN_MOBILIARIO_OBESO': dtype('int64'),\n",
       " 'IN_LAMINA_OVERLAY': dtype('int64'),\n",
       " 'IN_PROTETOR_AURICULAR': dtype('int64'),\n",
       " 'IN_MEDIDOR_GLICOSE': dtype('int64'),\n",
       " 'IN_MAQUINA_BRAILE': dtype('int64'),\n",
       " 'IN_SOROBAN': dtype('int64'),\n",
       " 'IN_MARCA_PASSO': dtype('int64'),\n",
       " 'IN_SONDA': dtype('int64'),\n",
       " 'IN_MEDICAMENTOS': dtype('int64'),\n",
       " 'IN_SALA_INDIVIDUAL': dtype('int64'),\n",
       " 'IN_SALA_ESPECIAL': dtype('int64'),\n",
       " 'IN_SALA_ACOMPANHANTE': dtype('int64'),\n",
       " 'IN_MOBILIARIO_ESPECIFICO': dtype('int64'),\n",
       " 'IN_MATERIAL_ESPECIFICO': dtype('int64'),\n",
       " 'IN_NOME_SOCIAL': dtype('int64'),\n",
       " 'CO_MUNICIPIO_PROVA': dtype('int64'),\n",
       " 'NO_MUNICIPIO_PROVA': dtype('O'),\n",
       " 'CO_UF_PROVA': dtype('int64'),\n",
       " 'SG_UF_PROVA': dtype('O'),\n",
       " 'TP_PRESENCA_CN': dtype('int64'),\n",
       " 'TP_PRESENCA_CH': dtype('int64'),\n",
       " 'TP_PRESENCA_LC': dtype('int64'),\n",
       " 'TP_PRESENCA_MT': dtype('int64'),\n",
       " 'CO_PROVA_CN': dtype('float64'),\n",
       " 'CO_PROVA_CH': dtype('float64'),\n",
       " 'CO_PROVA_LC': dtype('float64'),\n",
       " 'CO_PROVA_MT': dtype('float64'),\n",
       " 'NU_NOTA_CN': dtype('O'),\n",
       " 'NU_NOTA_CH': dtype('O'),\n",
       " 'NU_NOTA_LC': dtype('O'),\n",
       " 'NU_NOTA_MT': dtype('O'),\n",
       " 'TX_RESPOSTAS_CN': dtype('O'),\n",
       " 'TX_RESPOSTAS_CH': dtype('O'),\n",
       " 'TX_RESPOSTAS_LC': dtype('O'),\n",
       " 'TX_RESPOSTAS_MT': dtype('O'),\n",
       " 'TP_LINGUA': dtype('int64'),\n",
       " 'TX_GABARITO_CN': dtype('O'),\n",
       " 'TX_GABARITO_CH': dtype('O'),\n",
       " 'TX_GABARITO_LC': dtype('O'),\n",
       " 'TX_GABARITO_MT': dtype('O'),\n",
       " 'TP_STATUS_REDACAO': dtype('float64'),\n",
       " 'NU_NOTA_COMP1': dtype('float64'),\n",
       " 'NU_NOTA_COMP2': dtype('float64'),\n",
       " 'NU_NOTA_COMP3': dtype('float64'),\n",
       " 'NU_NOTA_COMP4': dtype('float64'),\n",
       " 'NU_NOTA_COMP5': dtype('float64'),\n",
       " 'NU_NOTA_REDACAO': dtype('float64'),\n",
       " 'Q001': dtype('O'),\n",
       " 'Q002': dtype('O'),\n",
       " 'Q003': dtype('O'),\n",
       " 'Q004': dtype('O'),\n",
       " 'Q005': dtype('int64'),\n",
       " 'Q006': dtype('O'),\n",
       " 'Q007': dtype('O'),\n",
       " 'Q008': dtype('O'),\n",
       " 'Q009': dtype('O'),\n",
       " 'Q010': dtype('O'),\n",
       " 'Q011': dtype('O'),\n",
       " 'Q012': dtype('O'),\n",
       " 'Q013': dtype('O'),\n",
       " 'Q014': dtype('O'),\n",
       " 'Q015': dtype('O'),\n",
       " 'Q016': dtype('O'),\n",
       " 'Q017': dtype('O'),\n",
       " 'Q018': dtype('O'),\n",
       " 'Q019': dtype('O'),\n",
       " 'Q020': dtype('O'),\n",
       " 'Q021': dtype('O'),\n",
       " 'Q022': dtype('O'),\n",
       " 'Q023': dtype('O'),\n",
       " 'Q024': dtype('O'),\n",
       " 'Q025': dtype('O')}"
      ]
     },
     "execution_count": 7,
     "metadata": {},
     "output_type": "execute_result"
    }
   ],
   "source": [
    "#Depois de conferirmos quantas colunas, linhas e como se distribui os diferentes tipos de dados\n",
    "#Vamos criar um dicionário, que nos dirá que tipo de dado está populando em cada coluna\n",
    "dict(enem2019.dtypes)"
   ]
  },
  {
   "cell_type": "markdown",
   "id": "4591f951",
   "metadata": {},
   "source": [
    "## Fase - Análise\n",
    "\n",
    "Nesta fase, vamos preparar o ambiente para que possamos proceder com nossa análise de dados, executaremos as seguintes etapas:\n",
    "\n",
    "1 - Organizamos e formatamos os dados;\n",
    "\n",
    "2 - Verificamos cálculos de performance;\n",
    "\n",
    "3 - Identificamos as tendências e as relações."
   ]
  },
  {
   "cell_type": "code",
   "execution_count": 8,
   "id": "ffe624fd",
   "metadata": {},
   "outputs": [
    {
     "data": {
      "text/plain": [
       "1    0.712303\n",
       "2    0.244788\n",
       "3    0.042909\n",
       "Name: TP_ESCOLA, dtype: float64"
      ]
     },
     "execution_count": 8,
     "metadata": {},
     "output_type": "execute_result"
    }
   ],
   "source": [
    "#Verificar a distribuição em relação as escolas, em valores absolutos\n",
    "enem2019.TP_ESCOLA.value_counts() / enem2019.shape[0]"
   ]
  },
  {
   "cell_type": "code",
   "execution_count": 9,
   "id": "01d9efb4",
   "metadata": {},
   "outputs": [
    {
     "data": {
      "text/plain": [
       "1    71.230298\n",
       "2    24.478821\n",
       "3     4.290882\n",
       "Name: TP_ESCOLA, dtype: float64"
      ]
     },
     "execution_count": 9,
     "metadata": {},
     "output_type": "execute_result"
    }
   ],
   "source": [
    "#Verificar a distribuição em relação as escolas, em valores relativos\n",
    "(enem2019.TP_ESCOLA.value_counts() / enem2019.shape[0]) * 100"
   ]
  },
  {
   "cell_type": "markdown",
   "id": "6aac55a2",
   "metadata": {},
   "source": [
    "Como ficou percebido, os tipos de escolas são identificados por números, e precisamos recorrer ao dicionário disponibilizado pelo INEP para identificarmos que 1 significa que não foi respondida essa informação pelo inscrito, 2 é pública e 3 privada. Mas podemos melhorar essas informações. "
   ]
  },
  {
   "cell_type": "code",
   "execution_count": 10,
   "id": "0d36b591",
   "metadata": {},
   "outputs": [],
   "source": [
    "#Criando uma nova coluna\n",
    "enem2019['TIPO_ESCOLA'] = \"\""
   ]
  },
  {
   "cell_type": "code",
   "execution_count": 11,
   "id": "574674cf",
   "metadata": {},
   "outputs": [],
   "source": [
    "#Populando coluna TIPO_ESCOLA a partir de uma filtragem dos dados\n",
    "#Inicialmente vamos filtrar os dados TP_ESCOLA iguais a 2 e inserir na nova coluna o valor Pública\n",
    "enem2019.loc[\n",
    "    enem2019.TP_ESCOLA.isin([2]),\n",
    "    \"TIPO_ESCOLA\"\n",
    "] = \"Pública\"\n",
    "\n",
    "#Repetir o processo de filtrar os dados TP_ESCOLA iguais a 3 e inserir na nova coluna o valor Privada\n",
    "enem2019.loc[\n",
    "    enem2019.TP_ESCOLA.isin([3]),\n",
    "    \"TIPO_ESCOLA\"\n",
    "] = \"Privada\"\n",
    "\n",
    "#Por fim, o processo de filtrar os dados TP_ESCOLA iguais a 1 e 4 e inserir na nova coluna o valor Outros\n",
    "enem2019.loc[\n",
    "    enem2019.TP_ESCOLA.isin([1, 4]),\n",
    "    \"TIPO_ESCOLA\"\n",
    "] = \"Outros\""
   ]
  },
  {
   "cell_type": "code",
   "execution_count": 12,
   "id": "59348295",
   "metadata": {},
   "outputs": [
    {
     "data": {
      "text/plain": [
       "Outros     71.230298\n",
       "Pública    24.478821\n",
       "Privada     4.290882\n",
       "Name: TIPO_ESCOLA, dtype: float64"
      ]
     },
     "execution_count": 12,
     "metadata": {},
     "output_type": "execute_result"
    }
   ],
   "source": [
    "#Verificar a distribuição em relação as escolas, em valores relativos, agora da nossa nova coluna\n",
    "(enem2019.TIPO_ESCOLA.value_counts() / enem2019.shape[0]) * 100"
   ]
  },
  {
   "cell_type": "code",
   "execution_count": 13,
   "id": "73e07ab3",
   "metadata": {},
   "outputs": [
    {
     "data": {
      "text/plain": [
       "3    0.463972\n",
       "1    0.359506\n",
       "2    0.127237\n",
       "4    0.022798\n",
       "0    0.020254\n",
       "5    0.006232\n",
       "Name: TP_COR_RACA, dtype: float64"
      ]
     },
     "execution_count": 13,
     "metadata": {},
     "output_type": "execute_result"
    }
   ],
   "source": [
    "#Verificar a distribuição em relação ao tipo COR_RACA, em valores absolutos\n",
    "enem2019.TP_COR_RACA.value_counts() / enem2019.shape[0]"
   ]
  },
  {
   "cell_type": "markdown",
   "id": "a61f604c",
   "metadata": {},
   "source": [
    "Nos deparamos com o mesmo problema que vimos em TP_ESCOLA, os tipos de COR_RACA são identificados por números, e precisamos recorrer ao dicionário disponibilizado pelo INEP para identificarmos, Vamos então melhorar essas informações."
   ]
  },
  {
   "cell_type": "code",
   "execution_count": 14,
   "id": "278bf7a8",
   "metadata": {},
   "outputs": [],
   "source": [
    "#Criando uma nova coluna\n",
    "enem2019['TIPO_COR_RACA'] = \"\""
   ]
  },
  {
   "cell_type": "code",
   "execution_count": 15,
   "id": "5fd1c6df",
   "metadata": {},
   "outputs": [],
   "source": [
    "#Populando coluna TIPO_COR_RACA a partir de uma filtragem dos dados\n",
    "#Inicialmente vamos filtrar os dados TP_COR_RACA iguais a 0 e inserir na nova coluna o valor Não Declarado\n",
    "#Repetiremos o mesmo processo para os demais valores\n",
    "enem2019.loc[\n",
    "    enem2019.TP_COR_RACA.isin([0]),\n",
    "    \"TIPO_COR_RACA\"\n",
    "]=\"Não Declarado\"\n",
    "\n",
    "enem2019.loc[\n",
    "    enem2019.TP_COR_RACA.isin([1]),\n",
    "    \"TIPO_COR_RACA\"\n",
    "]=\"Branca\"\n",
    "\n",
    "enem2019.loc[\n",
    "    enem2019.TP_COR_RACA.isin([2]),\n",
    "    \"TIPO_COR_RACA\"\n",
    "]=\"Preta\"\n",
    "\n",
    "enem2019.loc[\n",
    "    enem2019.TP_COR_RACA.isin([3]),\n",
    "    \"TIPO_COR_RACA\"\n",
    "]=\"Parda\"\n",
    "\n",
    "enem2019.loc[\n",
    "    enem2019.TP_COR_RACA.isin([4]),\n",
    "    \"TIPO_COR_RACA\"\n",
    "]=\"Amarela\"\n",
    "\n",
    "enem2019.loc[\n",
    "    enem2019.TP_COR_RACA.isin([5]),\n",
    "    \"TIPO_COR_RACA\"\n",
    "]=\"Indígena\""
   ]
  },
  {
   "cell_type": "code",
   "execution_count": 16,
   "id": "5dfeab00",
   "metadata": {},
   "outputs": [
    {
     "data": {
      "text/plain": [
       "Parda            46.397208\n",
       "Branca           35.950578\n",
       "Preta            12.723742\n",
       "Amarela           2.279801\n",
       "Não Declarado     2.025428\n",
       "Indígena          0.623245\n",
       "Name: TIPO_COR_RACA, dtype: float64"
      ]
     },
     "execution_count": 16,
     "metadata": {},
     "output_type": "execute_result"
    }
   ],
   "source": [
    "#Verificar a distribuição em relação as COR_RACA, em valores relativos, agora da nossa nova coluna\n",
    "(enem2019.TIPO_COR_RACA.value_counts() / enem2019.shape[0]) * 100"
   ]
  },
  {
   "cell_type": "markdown",
   "id": "2d41e30e",
   "metadata": {},
   "source": [
    "Para nossa análise, temos como problema proposto, verificar o comportamento dos faltosos a partir de duas variáveis dominante (ESCOLA PÚBLICA e PRIVADA), entaão vamos nos ater aos que informaram pertencer a um ou a outro tipo de escola."
   ]
  },
  {
   "cell_type": "code",
   "execution_count": 17,
   "id": "166ccd4a",
   "metadata": {},
   "outputs": [],
   "source": [
    "#Cirando uma variável com os inscritos que informaram serem de escola públicas\n",
    "escola_publica = enem2019.loc[\n",
    "    enem2019.TP_ESCOLA == 2\n",
    "]"
   ]
  },
  {
   "cell_type": "code",
   "execution_count": 18,
   "id": "ba75e7e8",
   "metadata": {},
   "outputs": [
    {
     "data": {
      "text/plain": [
       "Parda            48.274861\n",
       "Branca           34.094200\n",
       "Preta            12.382002\n",
       "Amarela           2.263277\n",
       "Não Declarado     2.249808\n",
       "Indígena          0.735852\n",
       "Name: TIPO_COR_RACA, dtype: float64"
      ]
     },
     "execution_count": 18,
     "metadata": {},
     "output_type": "execute_result"
    }
   ],
   "source": [
    "#Verificar a distribuição nas escolas públicas em relação as COR_RACA, em valores relativos\n",
    "(escola_publica.TIPO_COR_RACA.value_counts() / escola_publica.shape[0]) * 100"
   ]
  },
  {
   "cell_type": "code",
   "execution_count": 19,
   "id": "c7990e18",
   "metadata": {},
   "outputs": [],
   "source": [
    "#Cirando uma variável com os inscritos que informaram serem de escola privadas\n",
    "escola_privada = enem2019.loc[\n",
    "    enem2019.TP_ESCOLA == 3\n",
    "]"
   ]
  },
  {
   "cell_type": "code",
   "execution_count": 20,
   "id": "64ca1106",
   "metadata": {},
   "outputs": [
    {
     "data": {
      "text/plain": [
       "Branca           63.750503\n",
       "Parda            26.039647\n",
       "Preta             5.403601\n",
       "Amarela           2.376596\n",
       "Não Declarado     2.225658\n",
       "Indígena          0.203996\n",
       "Name: TIPO_COR_RACA, dtype: float64"
      ]
     },
     "execution_count": 20,
     "metadata": {},
     "output_type": "execute_result"
    }
   ],
   "source": [
    "#Verificar a distribuição nas escolas privadas em relação as COR_RACA, em valores relativos\n",
    "(escola_privada.TIPO_COR_RACA.value_counts() / escola_privada.shape[0]) * 100"
   ]
  },
  {
   "cell_type": "markdown",
   "id": "c2f3bb49",
   "metadata": {},
   "source": [
    "Estavamos, até então, analisando os dados dos inscritos para o ENEM de todo os Brasil, vamos regionalizar um pouco. Iremos voltar nossas atenções para os Estados da Bahia, Paraiba e Pernambuco"
   ]
  },
  {
   "cell_type": "code",
   "execution_count": 21,
   "id": "a51b0070",
   "metadata": {},
   "outputs": [],
   "source": [
    "#Cirando as variáveis com os inscritos que informaram serem de escola públicas e privadas com residência em Pernambuco\n",
    "esc_pub_pe = enem2019.loc[\n",
    "    (enem2019.SG_UF_RESIDENCIA == \"PE\") &\n",
    "    (enem2019.TP_ESCOLA == 2)\n",
    "]\n",
    "\n",
    "esc_prv_pe = enem2019.loc[\n",
    "    (enem2019.SG_UF_RESIDENCIA == \"PE\") &\n",
    "    (enem2019.TP_ESCOLA == 3)\n",
    "]"
   ]
  },
  {
   "cell_type": "code",
   "execution_count": 22,
   "id": "bec723d2",
   "metadata": {},
   "outputs": [],
   "source": [
    "#Cirando as variáveis com os inscritos que informaram serem de escola públicas e privadas com residência em Paraiba\n",
    "esc_pub_pb = enem2019.loc[\n",
    "    (enem2019.SG_UF_RESIDENCIA == \"PB\") &\n",
    "    (enem2019.TP_ESCOLA == 2)\n",
    "]\n",
    "\n",
    "esc_prv_pb = enem2019.loc[\n",
    "    (enem2019.SG_UF_RESIDENCIA == \"PB\") &\n",
    "    (enem2019.TP_ESCOLA == 3)\n",
    "]"
   ]
  },
  {
   "cell_type": "code",
   "execution_count": 23,
   "id": "e38b082b",
   "metadata": {},
   "outputs": [],
   "source": [
    "#Cirando as variáveis com os inscritos que informaram serem de escola públicas e privadas com residência em Bahia\n",
    "esc_pub_ba = enem2019.loc[\n",
    "    (enem2019.SG_UF_RESIDENCIA == \"BA\") &\n",
    "    (enem2019.TP_ESCOLA == 2)\n",
    "]\n",
    "\n",
    "esc_prv_ba = enem2019.loc[\n",
    "    (enem2019.SG_UF_RESIDENCIA == \"BA\") &\n",
    "    (enem2019.TP_ESCOLA == 3)\n",
    "]"
   ]
  },
  {
   "cell_type": "code",
   "execution_count": 25,
   "id": "c8c95960",
   "metadata": {},
   "outputs": [
    {
     "data": {
      "text/plain": [
       "Parda            56.227083\n",
       "Branca           24.044709\n",
       "Preta            12.375362\n",
       "Não Declarado     3.010614\n",
       "Amarela           2.984883\n",
       "Indígena          1.357350\n",
       "Name: TIPO_COR_RACA, dtype: float64"
      ]
     },
     "execution_count": 25,
     "metadata": {},
     "output_type": "execute_result"
    }
   ],
   "source": [
    "#Verificar a distribuição nas escolas públicas em relação as COR_RACA, em valores relativos\n",
    "(esc_pub_pe.TIPO_COR_RACA.value_counts() / esc_pub_pe.shape[0]) * 100"
   ]
  },
  {
   "cell_type": "code",
   "execution_count": 26,
   "id": "b36e2e7c",
   "metadata": {},
   "outputs": [
    {
     "data": {
      "text/plain": [
       "Branca           52.501013\n",
       "Parda            36.269745\n",
       "Preta             5.720940\n",
       "Não Declarado     2.895909\n",
       "Amarela           2.298501\n",
       "Indígena          0.313892\n",
       "Name: TIPO_COR_RACA, dtype: float64"
      ]
     },
     "execution_count": 26,
     "metadata": {},
     "output_type": "execute_result"
    }
   ],
   "source": [
    "#Verificar a distribuição nas escolas privada em relação as COR_RACA, em valores relativos\n",
    "(esc_prv_pe.TIPO_COR_RACA.value_counts() / esc_prv_pe.shape[0]) * 100"
   ]
  },
  {
   "cell_type": "code",
   "execution_count": 27,
   "id": "79eaba6d",
   "metadata": {},
   "outputs": [
    {
     "data": {
      "text/plain": [
       "Parda            58.964560\n",
       "Branca           23.679562\n",
       "Preta            10.642824\n",
       "Amarela           3.215921\n",
       "Não Declarado     2.278545\n",
       "Indígena          1.218589\n",
       "Name: TIPO_COR_RACA, dtype: float64"
      ]
     },
     "execution_count": 27,
     "metadata": {},
     "output_type": "execute_result"
    }
   ],
   "source": [
    "#Verificar a distribuição nas escolas públicas em relação as COR_RACA, em valores relativos\n",
    "(esc_pub_pb.TIPO_COR_RACA.value_counts() / esc_pub_pb.shape[0]) * 100"
   ]
  },
  {
   "cell_type": "code",
   "execution_count": 28,
   "id": "9919f4a9",
   "metadata": {},
   "outputs": [
    {
     "data": {
      "text/plain": [
       "Branca           45.979717\n",
       "Parda            42.683810\n",
       "Preta             5.776892\n",
       "Amarela           2.734516\n",
       "Não Declarado     2.263673\n",
       "Indígena          0.561391\n",
       "Name: TIPO_COR_RACA, dtype: float64"
      ]
     },
     "execution_count": 28,
     "metadata": {},
     "output_type": "execute_result"
    }
   ],
   "source": [
    "#Verificar a distribuição nas escolas privadas em relação as COR_RACA, em valores relativos\n",
    "(esc_prv_pb.TIPO_COR_RACA.value_counts() / esc_prv_pb.shape[0]) * 100"
   ]
  },
  {
   "cell_type": "code",
   "execution_count": 29,
   "id": "2dec2aca",
   "metadata": {},
   "outputs": [
    {
     "data": {
      "text/plain": [
       "Parda            51.439789\n",
       "Preta            27.562395\n",
       "Branca           13.993915\n",
       "Não Declarado     3.090402\n",
       "Amarela           2.971734\n",
       "Indígena          0.941765\n",
       "Name: TIPO_COR_RACA, dtype: float64"
      ]
     },
     "execution_count": 29,
     "metadata": {},
     "output_type": "execute_result"
    }
   ],
   "source": [
    "#Verificar a distribuição nas escolas públicas em relação as COR_RACA, em valores relativos\n",
    "(esc_pub_ba.TIPO_COR_RACA.value_counts() / esc_pub_ba.shape[0]) * 100"
   ]
  },
  {
   "cell_type": "code",
   "execution_count": 30,
   "id": "b6a46923",
   "metadata": {},
   "outputs": [
    {
     "data": {
      "text/plain": [
       "Parda            45.394539\n",
       "Branca           32.478248\n",
       "Preta            16.149115\n",
       "Não Declarado     3.172817\n",
       "Amarela           2.430243\n",
       "Indígena          0.375038\n",
       "Name: TIPO_COR_RACA, dtype: float64"
      ]
     },
     "execution_count": 30,
     "metadata": {},
     "output_type": "execute_result"
    }
   ],
   "source": [
    "#Verificar a distribuição nas escolas privadas em relação as COR_RACA, em valores relativos\n",
    "(esc_prv_ba.TIPO_COR_RACA.value_counts() / esc_prv_ba.shape[0]) * 100"
   ]
  },
  {
   "cell_type": "markdown",
   "id": "6bffbded",
   "metadata": {},
   "source": [
    "Até aqui, conseguimos observar como se distribuem por COR_RACA, os inscritos no ENEM de 2019 dos estados da Bahia, Paraiba e Pernambuco, mas como se comportam tais inscrições vs estrato social?"
   ]
  },
  {
   "cell_type": "code",
   "execution_count": 31,
   "id": "e1bc317e",
   "metadata": {},
   "outputs": [
    {
     "data": {
      "text/plain": [
       "C    0.257389\n",
       "B    0.249889\n",
       "D    0.098055\n",
       "E    0.093335\n",
       "G    0.059255\n",
       "A    0.045547\n",
       "F    0.044404\n",
       "H    0.037861\n",
       "I    0.028193\n",
       "J    0.015856\n",
       "N    0.012099\n",
       "K    0.011388\n",
       "Q    0.011216\n",
       "O    0.009853\n",
       "L    0.008673\n",
       "M    0.008498\n",
       "P    0.008489\n",
       "Name: Q006, dtype: float64"
      ]
     },
     "execution_count": 31,
     "metadata": {},
     "output_type": "execute_result"
    }
   ],
   "source": [
    "#Verificar a distribuição em relação ao tipo COR_RACA, em valores absolutos\n",
    "enem2019.Q006.value_counts() / enem2019.shape[0]"
   ]
  },
  {
   "cell_type": "markdown",
   "id": "d9734681",
   "metadata": {},
   "source": [
    "Nos deparamos com o mesmo problema com os tipos de respostas, dessa vez sendo identificados por letras, e precisamos recorrer ao dicionário disponibilizado pelo INEP para identificarmos qual letra representa um valor ou intervalo de valores da renda familiar dos inscritos. Mas podemos melhorar essas informações também."
   ]
  },
  {
   "cell_type": "code",
   "execution_count": 32,
   "id": "75d7a2fe",
   "metadata": {},
   "outputs": [],
   "source": [
    "#Criando uma nova coluna\n",
    "enem2019['TIPO_CLASSE'] = \"\""
   ]
  },
  {
   "cell_type": "code",
   "execution_count": 33,
   "id": "4f9bcea6",
   "metadata": {},
   "outputs": [],
   "source": [
    "#Populando coluna TIPO_CLASSE a partir de uma filtragem dos dados\n",
    "#Inicialmente vamos filtrar os dados Q006 iguais a A, B e C e inserir na nova coluna o valor Classe E\n",
    "#Repetiremos o mesmo processo para os demais valores\n",
    "enem2019.loc[\n",
    "    enem2019.Q006.isin([\"A\", \"B\", \"C\"]),\n",
    "    \"TIPO_CLASSE\"\n",
    "] = \"Classe E\"\n",
    "\n",
    "enem2019.loc[\n",
    "    enem2019.Q006.isin([\"D\", \"E\"]),\n",
    "    \"TIPO_CLASSE\"\n",
    "] = \"Classe D\"\n",
    "\n",
    "enem2019.loc[\n",
    "    enem2019.Q006.isin([\"F\", \"G\", \"H\"]),\n",
    "    \"TIPO_CLASSE\"\n",
    "] = \"Classe C\"\n",
    "\n",
    "enem2019.loc[\n",
    "    enem2019.Q006.isin([\"I\", \"J\", \"K\", \"L\", \"M\"]),\n",
    "    \"TIPO_CLASSE\"\n",
    "] = \"Classe B\"\n",
    "\n",
    "enem2019.loc[\n",
    "    enem2019.Q006.isin([\"N\", \"O\", \"P\", \"Q\"]),\n",
    "    \"TIPO_CLASSE\"\n",
    "] = \"Classe A\""
   ]
  },
  {
   "cell_type": "markdown",
   "id": "32afa35c",
   "metadata": {},
   "source": [
    "Esse novo processo efetuado criou uma nova tabela em nosso DataFrame principal, enem2019, essa mesma coluna e valores não estão disponiveis em nossa variaves que criamos para visualizar os inscritos nas escolas públicas e privadas da Bahia, Paraiba e Pernambuco"
   ]
  },
  {
   "cell_type": "code",
   "execution_count": 34,
   "id": "17c927b9",
   "metadata": {},
   "outputs": [],
   "source": [
    "#Cirando as variáveis com os inscritos que informaram serem de escola públicas e privadas com residência em Pernambuco\n",
    "esc_pub_pe = enem2019.loc[\n",
    "    (enem2019.SG_UF_RESIDENCIA == \"PE\") &\n",
    "    (enem2019.TP_ESCOLA == 2)\n",
    "]\n",
    "\n",
    "esc_prv_pe = enem2019.loc[\n",
    "    (enem2019.SG_UF_RESIDENCIA == \"PE\") &\n",
    "    (enem2019.TP_ESCOLA == 3)\n",
    "]\n",
    "\n",
    "#Cirando as variáveis com os inscritos que informaram serem de escola públicas e privadas com residência em Paraiba\n",
    "esc_pub_pb = enem2019.loc[\n",
    "    (enem2019.SG_UF_RESIDENCIA == \"PB\") &\n",
    "    (enem2019.TP_ESCOLA == 2)\n",
    "]\n",
    "\n",
    "esc_prv_pb = enem2019.loc[\n",
    "    (enem2019.SG_UF_RESIDENCIA == \"PB\") &\n",
    "    (enem2019.TP_ESCOLA == 3)\n",
    "]\n",
    "\n",
    "#Cirando as variáveis com os inscritos que informaram serem de escola públicas e privadas com residência em Bahia\n",
    "esc_pub_ba = enem2019.loc[\n",
    "    (enem2019.SG_UF_RESIDENCIA == \"BA\") &\n",
    "    (enem2019.TP_ESCOLA == 2)\n",
    "]\n",
    "\n",
    "esc_prv_ba = enem2019.loc[\n",
    "    (enem2019.SG_UF_RESIDENCIA == \"BA\") &\n",
    "    (enem2019.TP_ESCOLA == 3)\n",
    "]"
   ]
  },
  {
   "cell_type": "markdown",
   "id": "26213b36",
   "metadata": {},
   "source": [
    "Agora vamos observar como se distribuem por TIPO_CLASSE, os inscritos no ENEM de 2019 dos estados da Bahia, Paraiba e Pernambuco"
   ]
  },
  {
   "cell_type": "code",
   "execution_count": 35,
   "id": "70f8a139",
   "metadata": {},
   "outputs": [
    {
     "data": {
      "text/plain": [
       "Classe E    83.100675\n",
       "Classe D    10.286266\n",
       "Classe C     4.631714\n",
       "Classe B     1.629141\n",
       "Classe A     0.352203\n",
       "Name: TIPO_CLASSE, dtype: float64"
      ]
     },
     "execution_count": 35,
     "metadata": {},
     "output_type": "execute_result"
    }
   ],
   "source": [
    "#Verificar a distribuição nas escolas públicas em relação ao TIPO_CLASSE, em valores relativos\n",
    "(esc_pub_pe.TIPO_CLASSE.value_counts() / esc_pub_pe.shape[0]) * 100"
   ]
  },
  {
   "cell_type": "code",
   "execution_count": 36,
   "id": "57ff60ba",
   "metadata": {},
   "outputs": [
    {
     "data": {
      "text/plain": [
       "Classe E    23.552045\n",
       "Classe C    22.235723\n",
       "Classe B    19.319563\n",
       "Classe A    17.628595\n",
       "Classe D    17.264075\n",
       "Name: TIPO_CLASSE, dtype: float64"
      ]
     },
     "execution_count": 36,
     "metadata": {},
     "output_type": "execute_result"
    }
   ],
   "source": [
    "#Verificar a distribuição nas escolas privadas em relação as TIPO_CLASSE, em valores relativos\n",
    "(esc_prv_pe.TIPO_CLASSE.value_counts() / esc_prv_pe.shape[0]) * 100"
   ]
  },
  {
   "cell_type": "code",
   "execution_count": 37,
   "id": "26b2ffda",
   "metadata": {},
   "outputs": [
    {
     "data": {
      "text/plain": [
       "Classe E    86.710892\n",
       "Classe D     8.403937\n",
       "Classe C     3.655767\n",
       "Classe B     1.027508\n",
       "Classe A     0.201896\n",
       "Name: TIPO_CLASSE, dtype: float64"
      ]
     },
     "execution_count": 37,
     "metadata": {},
     "output_type": "execute_result"
    }
   ],
   "source": [
    "#Verificar a distribuição nas escolas públicas em relação ao TIPO_CLASSE, em valores relativos\n",
    "(esc_pub_pb.TIPO_CLASSE.value_counts() / esc_pub_pb.shape[0]) * 100"
   ]
  },
  {
   "cell_type": "code",
   "execution_count": 38,
   "id": "e1a3adcc",
   "metadata": {},
   "outputs": [
    {
     "data": {
      "text/plain": [
       "Classe E    27.834118\n",
       "Classe C    22.129663\n",
       "Classe D    20.119522\n",
       "Classe B    17.348787\n",
       "Classe A    12.567910\n",
       "Name: TIPO_CLASSE, dtype: float64"
      ]
     },
     "execution_count": 38,
     "metadata": {},
     "output_type": "execute_result"
    }
   ],
   "source": [
    "#Verificar a distribuição nas escolas privadas em relação as TIPO_CLASSE, em valores relativos\n",
    "(esc_prv_pb.TIPO_CLASSE.value_counts() / esc_prv_pb.shape[0]) * 100"
   ]
  },
  {
   "cell_type": "code",
   "execution_count": 39,
   "id": "0d5cee8c",
   "metadata": {},
   "outputs": [
    {
     "data": {
      "text/plain": [
       "Classe E    81.524497\n",
       "Classe D    11.140848\n",
       "Classe C     5.245351\n",
       "Classe B     1.759812\n",
       "Classe A     0.329491\n",
       "Name: TIPO_CLASSE, dtype: float64"
      ]
     },
     "execution_count": 39,
     "metadata": {},
     "output_type": "execute_result"
    }
   ],
   "source": [
    "#Verificar a distribuição nas escolas públicas em relação ao TIPO_CLASSE, em valores relativos\n",
    "(esc_pub_ba.TIPO_CLASSE.value_counts() / esc_pub_ba.shape[0]) * 100"
   ]
  },
  {
   "cell_type": "code",
   "execution_count": 40,
   "id": "58a5ea72",
   "metadata": {},
   "outputs": [
    {
     "data": {
      "text/plain": [
       "Classe C    24.377438\n",
       "Classe E    21.999700\n",
       "Classe B    20.079508\n",
       "Classe D    18.039304\n",
       "Classe A    15.504050\n",
       "Name: TIPO_CLASSE, dtype: float64"
      ]
     },
     "execution_count": 40,
     "metadata": {},
     "output_type": "execute_result"
    }
   ],
   "source": [
    "#Verificar a distribuição nas escolas privadas em relação as TIPO_CLASSE, em valores relativos\n",
    "(esc_prv_ba.TIPO_CLASSE.value_counts() / esc_prv_ba.shape[0]) * 100"
   ]
  },
  {
   "cell_type": "markdown",
   "id": "e1debe16",
   "metadata": {},
   "source": [
    "Até aqui, conseguimos observar como se distribuem por COR_RACA e o TIPO_CLASSE, dos inscritos no ENEM de 2019 dos estados da Bahia, Paraiba e Pernambuco, mas como se comportam tais inscrições dos faltosos?"
   ]
  },
  {
   "cell_type": "code",
   "execution_count": 41,
   "id": "5658865e",
   "metadata": {},
   "outputs": [],
   "source": [
    "#Atualizando as variáveis com os inscritos faltosos que informaram serem de escola públicas e privadas com residência em Paraiba\n",
    "esc_pub_pb = enem2019.loc[\n",
    "    (enem2019.SG_UF_RESIDENCIA == \"PB\") &\n",
    "    (enem2019.TP_ESCOLA == 2) &\n",
    "    (enem2019.TP_PRESENCA_CN == 0) &\n",
    "    (enem2019.TP_PRESENCA_CH == 0) &\n",
    "    (enem2019.TP_PRESENCA_LC == 0) &\n",
    "    (enem2019.TP_PRESENCA_MT == 0) \n",
    "]\n",
    "\n",
    "esc_prv_pb = enem2019.loc[\n",
    "    (enem2019.SG_UF_RESIDENCIA == \"PB\") &\n",
    "    (enem2019.TP_ESCOLA == 3) &\n",
    "    (enem2019.TP_PRESENCA_CN == 0) &\n",
    "    (enem2019.TP_PRESENCA_CH == 0) &\n",
    "    (enem2019.TP_PRESENCA_LC == 0) &\n",
    "    (enem2019.TP_PRESENCA_MT == 0) \n",
    "]\n",
    "\n",
    "#Atualizando as variáveis com os inscritos faltosos que informaram serem de escola públicas e privadas com residência em Bahia\n",
    "esc_pub_ba = enem2019.loc[\n",
    "    (enem2019.SG_UF_RESIDENCIA == \"BA\") &\n",
    "    (enem2019.TP_ESCOLA == 2) &\n",
    "    (enem2019.TP_PRESENCA_CN == 0) &\n",
    "    (enem2019.TP_PRESENCA_CH == 0) &\n",
    "    (enem2019.TP_PRESENCA_LC == 0) &\n",
    "    (enem2019.TP_PRESENCA_MT == 0) \n",
    "]\n",
    "\n",
    "esc_prv_ba = enem2019.loc[\n",
    "    (enem2019.SG_UF_RESIDENCIA == \"BA\") &\n",
    "    (enem2019.TP_ESCOLA == 3) &\n",
    "    (enem2019.TP_PRESENCA_CN == 0) &\n",
    "    (enem2019.TP_PRESENCA_CH == 0) &\n",
    "    (enem2019.TP_PRESENCA_LC == 0) &\n",
    "    (enem2019.TP_PRESENCA_MT == 0) \n",
    "]\n",
    "\n",
    "#Atualizando as variáveis com os inscritos faltosos que informaram serem de escola públicas e privadas com residência em Pernambuco\n",
    "esc_pub_pe = enem2019.loc[\n",
    "    (enem2019.SG_UF_RESIDENCIA == \"PE\") &\n",
    "    (enem2019.TP_ESCOLA == 2) &\n",
    "    (enem2019.TP_PRESENCA_CN == 0) &\n",
    "    (enem2019.TP_PRESENCA_CH == 0) &\n",
    "    (enem2019.TP_PRESENCA_LC == 0) &\n",
    "    (enem2019.TP_PRESENCA_MT == 0) \n",
    "]\n",
    "\n",
    "esc_prv_pe = enem2019.loc[\n",
    "    (enem2019.SG_UF_RESIDENCIA == \"PE\") &\n",
    "    (enem2019.TP_ESCOLA == 3)&\n",
    "    (enem2019.TP_PRESENCA_CN == 0) &\n",
    "    (enem2019.TP_PRESENCA_CH == 0) &\n",
    "    (enem2019.TP_PRESENCA_LC == 0) &\n",
    "    (enem2019.TP_PRESENCA_MT == 0) \n",
    "]"
   ]
  },
  {
   "cell_type": "code",
   "execution_count": 42,
   "id": "a72d28ce",
   "metadata": {},
   "outputs": [
    {
     "data": {
      "text/plain": [
       "Classe E    92.345870\n",
       "Classe D     5.657880\n",
       "Classe C     1.555090\n",
       "Classe B     0.341899\n",
       "Classe A     0.099261\n",
       "Name: TIPO_CLASSE, dtype: float64"
      ]
     },
     "execution_count": 42,
     "metadata": {},
     "output_type": "execute_result"
    }
   ],
   "source": [
    "#Verificar a distribuição nas escolas públicas em relação ao TIPO_CLASSE, em valores relativos\n",
    "(esc_pub_pe.TIPO_CLASSE.value_counts() / esc_pub_pe.shape[0]) * 100"
   ]
  },
  {
   "cell_type": "code",
   "execution_count": 43,
   "id": "91ab3019",
   "metadata": {},
   "outputs": [
    {
     "data": {
      "text/plain": [
       "Classe E    35.807860\n",
       "Classe A    20.087336\n",
       "Classe C    17.467249\n",
       "Classe D    13.537118\n",
       "Classe B    13.100437\n",
       "Name: TIPO_CLASSE, dtype: float64"
      ]
     },
     "execution_count": 43,
     "metadata": {},
     "output_type": "execute_result"
    }
   ],
   "source": [
    "#Verificar a distribuição nas escolas privadas em relação as TIPO_CLASSE, em valores relativos\n",
    "(esc_prv_pe.TIPO_CLASSE.value_counts() / esc_prv_pe.shape[0]) * 100"
   ]
  },
  {
   "cell_type": "code",
   "execution_count": 44,
   "id": "e9d77c1d",
   "metadata": {},
   "outputs": [
    {
     "data": {
      "text/plain": [
       "Classe E    93.925973\n",
       "Classe D     4.492249\n",
       "Classe C     1.138880\n",
       "Classe B     0.347991\n",
       "Classe A     0.094907\n",
       "Name: TIPO_CLASSE, dtype: float64"
      ]
     },
     "execution_count": 44,
     "metadata": {},
     "output_type": "execute_result"
    }
   ],
   "source": [
    "#Verificar a distribuição nas escolas públicas em relação ao TIPO_CLASSE, em valores relativos\n",
    "(esc_pub_pb.TIPO_CLASSE.value_counts() / esc_pub_pb.shape[0]) * 100"
   ]
  },
  {
   "cell_type": "code",
   "execution_count": 45,
   "id": "67212db7",
   "metadata": {},
   "outputs": [
    {
     "data": {
      "text/plain": [
       "Classe E    27.848101\n",
       "Classe A    24.050633\n",
       "Classe D    18.987342\n",
       "Classe C    17.721519\n",
       "Classe B    11.392405\n",
       "Name: TIPO_CLASSE, dtype: float64"
      ]
     },
     "execution_count": 45,
     "metadata": {},
     "output_type": "execute_result"
    }
   ],
   "source": [
    "#Verificar a distribuição nas escolas privadas em relação as TIPO_CLASSE, em valores relativos\n",
    "(esc_prv_pb.TIPO_CLASSE.value_counts() / esc_prv_pb.shape[0]) * 100"
   ]
  },
  {
   "cell_type": "code",
   "execution_count": 46,
   "id": "edf1111d",
   "metadata": {},
   "outputs": [
    {
     "data": {
      "text/plain": [
       "Classe E    90.285162\n",
       "Classe D     6.814886\n",
       "Classe C     2.252296\n",
       "Classe B     0.463992\n",
       "Classe A     0.183664\n",
       "Name: TIPO_CLASSE, dtype: float64"
      ]
     },
     "execution_count": 46,
     "metadata": {},
     "output_type": "execute_result"
    }
   ],
   "source": [
    "#Verificar a distribuição nas escolas públicas em relação ao TIPO_CLASSE, em valores relativos\n",
    "(esc_pub_ba.TIPO_CLASSE.value_counts() / esc_pub_ba.shape[0]) * 100"
   ]
  },
  {
   "cell_type": "code",
   "execution_count": 47,
   "id": "6c492f80",
   "metadata": {},
   "outputs": [
    {
     "data": {
      "text/plain": [
       "Classe E    26.821192\n",
       "Classe A    26.490066\n",
       "Classe C    17.218543\n",
       "Classe D    15.231788\n",
       "Classe B    14.238411\n",
       "Name: TIPO_CLASSE, dtype: float64"
      ]
     },
     "execution_count": 47,
     "metadata": {},
     "output_type": "execute_result"
    }
   ],
   "source": [
    "#Verificar a distribuição nas escolas privadas em relação as TIPO_CLASSE, em valores relativos\n",
    "(esc_prv_ba.TIPO_CLASSE.value_counts() / esc_prv_ba.shape[0]) * 100"
   ]
  },
  {
   "cell_type": "markdown",
   "id": "00a11aa0",
   "metadata": {},
   "source": [
    "## Fase - Compartilhamento\n",
    "\n",
    "Vamos gerar alguns graficos das respostas encontradas"
   ]
  },
  {
   "cell_type": "code",
   "execution_count": 49,
   "id": "b8fc0106",
   "metadata": {},
   "outputs": [
    {
     "data": {
      "image/png": "[encoded data removed]",
      "text/plain": [
       "<Figure size 432x288 with 1 Axes>"
      ]
     },
     "metadata": {
      "needs_background": "light"
     },
     "output_type": "display_data"
    }
   ],
   "source": [
    "#Vamos criar uma nova variável, e com os dados armazenados nela\n",
    "faltosos_esc_pub_pe = esc_pub_pe.TIPO_CLASSE.value_counts() / esc_pub_pe.shape[0]\n",
    "#Vamos gerar ou plotar gráfico do tipo Barra\n",
    "faltosos_esc_pub_pe.plot(kind = \"bar\")\n",
    "#Vamos salvar nosso gráfico\n",
    "plt.savefig('faltosos_esc_pub_pe.png')"
   ]
  },
  {
   "cell_type": "code",
   "execution_count": 50,
   "id": "8073dd1b",
   "metadata": {},
   "outputs": [
    {
     "data": {
      "image/png": "[encoded data removed]",
      "text/plain": [
       "<Figure size 432x288 with 1 Axes>"
      ]
     },
     "metadata": {
      "needs_background": "light"
     },
     "output_type": "display_data"
    }
   ],
   "source": [
    "#Vamos criar uma nova variável, e com os dados armazenados nela\n",
    "faltosos_esc_prv_pe = esc_prv_pe.TIPO_CLASSE.value_counts() / esc_prv_pe.shape[0]\n",
    "#Vamos gerar ou plotar gráfico do tipo Barra\n",
    "faltosos_esc_prv_pe.plot(kind = \"bar\")\n",
    "#Vamos salvar nosso gráfico\n",
    "plt.savefig('faltosos_esc_prv_pe.png')"
   ]
  },
  {
   "cell_type": "code",
   "execution_count": 51,
   "id": "8d4fa975",
   "metadata": {},
   "outputs": [
    {
     "data": {
      "image/png": "[encoded data removed]",
      "text/plain": [
       "<Figure size 432x288 with 1 Axes>"
      ]
     },
     "metadata": {
      "needs_background": "light"
     },
     "output_type": "display_data"
    }
   ],
   "source": [
    "#Vamos criar uma nova variável, e com os dados armazenados nela\n",
    "faltosos_esc_pub_pb = esc_pub_pb.TIPO_CLASSE.value_counts() / esc_pub_pb.shape[0]\n",
    "#Vamos gerar ou plotar gráfico do tipo Barra\n",
    "faltosos_esc_pub_pb.plot(kind = \"bar\")\n",
    "#Vamos salvar nosso gráfico\n",
    "plt.savefig('faltosos_esc_pub_pb.png')"
   ]
  },
  {
   "cell_type": "code",
   "execution_count": 52,
   "id": "6238a2d2",
   "metadata": {},
   "outputs": [
    {
     "data": {
      "image/png": "[encoded data removed]",
      "text/plain": [
       "<Figure size 432x288 with 1 Axes>"
      ]
     },
     "metadata": {
      "needs_background": "light"
     },
     "output_type": "display_data"
    }
   ],
   "source": [
    "#Vamos criar uma nova variável, e com os dados armazenados nela\n",
    "faltosos_esc_prv_pb = esc_prv_pb.TIPO_CLASSE.value_counts() / esc_prv_pb.shape[0]\n",
    "#Vamos gerar ou plotar gráfico do tipo Barra\n",
    "faltosos_esc_prv_pb.plot(kind = \"bar\")\n",
    "#Vamos salvar nosso gráfico\n",
    "plt.savefig('faltosos_esc_prv_pb.png')"
   ]
  },
  {
   "cell_type": "code",
   "execution_count": 53,
   "id": "56fef7ef",
   "metadata": {},
   "outputs": [
    {
     "data": {
      "image/png": "[encoded data removed]",
      "text/plain": [
       "<Figure size 432x288 with 1 Axes>"
      ]
     },
     "metadata": {
      "needs_background": "light"
     },
     "output_type": "display_data"
    }
   ],
   "source": [
    "#Vamos criar uma nova variável, e com os dados armazenados nela\n",
    "faltosos_esc_pub_ba = esc_pub_ba.TIPO_CLASSE.value_counts() / esc_pub_ba.shape[0]\n",
    "#Vamos gerar ou plotar gráfico do tipo Barra\n",
    "faltosos_esc_pub_ba.plot(kind = \"bar\")\n",
    "#Vamos salvar nosso gráfico\n",
    "plt.savefig('faltosos_esc_pub_ba.png')"
   ]
  },
  {
   "cell_type": "code",
   "execution_count": 54,
   "id": "098a6463",
   "metadata": {},
   "outputs": [
    {
     "data": {
      "image/png": "[encoded data removed]",
      "text/plain": [
       "<Figure size 432x288 with 1 Axes>"
      ]
     },
     "metadata": {
      "needs_background": "light"
     },
     "output_type": "display_data"
    }
   ],
   "source": [
    "#Vamos criar uma nova variável, e com os dados armazenados nela\n",
    "faltosos_esc_prv_ba = esc_prv_ba.TIPO_CLASSE.value_counts() / esc_prv_ba.shape[0]\n",
    "#Vamos gerar ou plotar gráfico do tipo Barra\n",
    "faltosos_esc_prv_ba.plot(kind = \"bar\")\n",
    "#Vamos salvar nosso gráfico\n",
    "plt.savefig('faltosos_esc_prv_ba.png')"
   ]
  },
  {
   "cell_type": "markdown",
   "id": "be35d9f4",
   "metadata": {},
   "source": [
    "## Conclusão\n",
    "\n",
    "Agradeço muito a todos que se inscreveram e puderam acompanhar nosso minicurso de análise de dado com Python para cientista social, espero que esse nosso curto momento juntos tenham possibilitado a vocês esclarecimento e curiosidade sobre esse universo que é a ciência de dados.\n",
    "\n",
    "### Deixo como tarefa final \n",
    "*Verifiquem, não mais os faltoso, mas sim quais foram os desempenhos nas provas e redação dos diferentes estratos sociais e dos inscritos das escolas públicas e privadas.*\n",
    "\n",
    "Um forte abraço turma!"
   ]
  }
 ],
 "metadata": {
  "kernelspec": {
   "display_name": "Python 3 (ipykernel)",
   "language": "python",
   "name": "python3"
  },
  "language_info": {
   "codemirror_mode": {
    "name": "ipython",
    "version": 3
   },
   "file_extension": ".py",
   "mimetype": "text/x-python",
   "name": "python",
   "nbconvert_exporter": "python",
   "pygments_lexer": "ipython3",
   "version": "3.9.7"
  }
 },
 "nbformat": 4,
 "nbformat_minor": 5
}
